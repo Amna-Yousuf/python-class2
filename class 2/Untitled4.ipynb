{
 "cells": [
  {
   "cell_type": "code",
   "execution_count": 1,
   "id": "c44322c9",
   "metadata": {},
   "outputs": [
    {
     "name": "stdout",
     "output_type": "stream",
     "text": [
      "question: 1\n",
      "\ttwinkle,twinkle,little star\n",
      "\t\tHow I wonder what you are!\n",
      "\t\t\tUp above the world so high,\n",
      "\t\t\tLike a diamond in the sky\n",
      "\ttwinkle,twinkle,little star\n",
      "\t\tHow I wonder what you are!\n"
     ]
    }
   ],
   "source": [
    "print(\"question: 1\");\n",
    "print(\"\\ttwinkle,twinkle,little star\")\n",
    "print(\"\\t\\tHow I wonder what you are!\")\n",
    "print(\"\\t\\t\\tUp above the world so high,\")\n",
    "print(\"\\t\\t\\tLike a diamond in the sky\")\n",
    "print(\"\\ttwinkle,twinkle,little star\")\n",
    "print(\"\\t\\tHow I wonder what you are!\")"
   ]
  },
  {
   "cell_type": "code",
   "execution_count": 2,
   "id": "3722a26a",
   "metadata": {},
   "outputs": [
    {
     "name": "stdout",
     "output_type": "stream",
     "text": [
      "question: 2\n",
      "3.9.7\n"
     ]
    }
   ],
   "source": [
    "import platform\n",
    "print(\"question: 2\");\n",
    "print(platform.python_version());"
   ]
  },
  {
   "cell_type": "code",
   "execution_count": 3,
   "id": "d0cad35f",
   "metadata": {},
   "outputs": [
    {
     "name": "stdout",
     "output_type": "stream",
     "text": [
      "question: 3\n",
      "Current date\n",
      "30-12-2021 \n",
      "Current time\n",
      "23:43:44\n"
     ]
    }
   ],
   "source": [
    "import datetime\n",
    "print(\"question: 3\");\n",
    "now = datetime.datetime.now();\n",
    "print (\"Current date\");\n",
    "print (now.strftime(\"%d-%m-%Y \"));\n",
    "print (\"Current time\");\n",
    "print (now.strftime(\"%H:%M:%S\"));"
   ]
  },
  {
   "cell_type": "code",
   "execution_count": 4,
   "id": "895f2758",
   "metadata": {},
   "outputs": [
    {
     "name": "stdout",
     "output_type": "stream",
     "text": [
      "question: 4\n",
      "enter radius of a circle: 2\n",
      "radius of circle:2.0 is 12.566370614359172\n"
     ]
    }
   ],
   "source": [
    "print(\"question: 4\");\n",
    "from math import pi\n",
    "r=float(input(\"enter radius of a circle: \"));\n",
    "print(\"radius of circle:\"+ str(r) + \" is \" + str(pi * r* 2));"
   ]
  },
  {
   "cell_type": "code",
   "execution_count": 5,
   "id": "ec45001c",
   "metadata": {},
   "outputs": [
    {
     "name": "stdout",
     "output_type": "stream",
     "text": [
      "question: 5\n",
      "enter your first name: amna\n",
      "enter your last name: iqbal\n",
      "iqbal amna\n"
     ]
    }
   ],
   "source": [
    "print(\"question: 5\");\n",
    "firstName= str(input(\"enter your first name: \"));\n",
    "lastName= str(input(\"enter your last name: \"));\n",
    "print(lastName + \" \" + firstName);\n"
   ]
  },
  {
   "cell_type": "code",
   "execution_count": 6,
   "id": "7edc2e6b",
   "metadata": {},
   "outputs": [
    {
     "name": "stdout",
     "output_type": "stream",
     "text": [
      "question: 6\n",
      "enter first number: 22\n",
      "enter second number: 99\n",
      "121\n"
     ]
    }
   ],
   "source": [
    "print(\"question: 6\");\n",
    "num1= int(input(\"enter first number: \"));\n",
    "num2= int(input(\"enter second number: \"));\n",
    "print(num1+ num2);"
   ]
  },
  {
   "cell_type": "code",
   "execution_count": null,
   "id": "0cb0b345",
   "metadata": {},
   "outputs": [],
   "source": []
  }
 ],
 "metadata": {
  "kernelspec": {
   "display_name": "Python 3 (ipykernel)",
   "language": "python",
   "name": "python3"
  },
  "language_info": {
   "codemirror_mode": {
    "name": "ipython",
    "version": 3
   },
   "file_extension": ".py",
   "mimetype": "text/x-python",
   "name": "python",
   "nbconvert_exporter": "python",
   "pygments_lexer": "ipython3",
   "version": "3.9.7"
  }
 },
 "nbformat": 4,
 "nbformat_minor": 5
}
